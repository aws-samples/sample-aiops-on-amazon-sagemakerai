{
 "cells": [
  {
   "cell_type": "markdown",
   "metadata": {},
   "source": [
    "# Agent Tutorial: Building Intelligent ETL Error Resolution Agents"
   ]
  },
  {
   "cell_type": "markdown",
   "metadata": {},
   "source": [
    "For this tutorial, you will learn how to create an agent for both LangGraph and Strands Agent. We'll build an intelligent ETL error resolution Agent that can analyze error tickets and provide step-by-step solutions. Our agent will be equipped with tools (log_identifer, information_retriever) to identify errors from ticket IDs and retrieve relevant solutions from a knowledge base."
   ]
  },
  {
   "cell_type": "markdown",
   "metadata": {},
   "source": [
    "![Sample Architect](./static/agent/1_agent/sample-architect.png) "
   ]
  },
  {
   "cell_type": "markdown",
   "metadata": {},
   "source": [
    "Here is the ideal resolution steps:  \n",
    "1. Taking a ticket ID as input\n",
    "2. Using the log_identifier tool to find the error type associated with that ticket\n",
    "3. Using the information_retriever tool to get step-by-step solutions\n",
    "4. Providing clear, actionable resolution steps to the user\n",
    "\n",
    "Let's start by setting up our data and building the agent step by step. "
   ]
  },
  {
   "cell_type": "markdown",
   "metadata": {},
   "source": [
    "### Load data and libaries "
   ]
  },
  {
   "cell_type": "code",
   "execution_count": 1,
   "metadata": {},
   "outputs": [],
   "source": [
    "import boto3\n",
    "import os\n",
    "from data.data import log_data_set, log_data\n",
    "from data.solution_book import knowledge_base\n",
    "\n",
    "try:\n",
    "    boto3.client('bedrock-runtime')\n",
    "except Exception as e:\n",
    "    print(f\"Error configuring AWS credentials: {e}\")\n",
    "    print(\"Please set your AWS credentials before proceeding.\")"
   ]
  },
  {
   "cell_type": "markdown",
   "metadata": {},
   "source": [
    "First, let's examine our sample synthesis data that represents a typical support ticket system. log_data is a list of dictionaries contains ticked id and error_name, for this workshop, we will use a simplified version to extract the error_name based on the ticket_id "
   ]
  },
  {
   "cell_type": "code",
   "execution_count": 2,
   "metadata": {},
   "outputs": [
    {
     "data": {
      "text/plain": [
       "[{'id': 'TICKET-001', 'error_name': 'Connection Timeout'},\n",
       " {'id': 'TICKET-002', 'error_name': 'Database Authentication Failed'},\n",
       " {'id': 'TICKET-003', 'error_name': 'Memory Overflow'},\n",
       " {'id': 'TICKET-004', 'error_name': 'API Rate Limit Exceeded'},\n",
       " {'id': 'TICKET-005', 'error_name': 'Invalid SSL Certificate'},\n",
       " {'id': 'TICKET-006', 'error_name': 'Disk Space Full'},\n",
       " {'id': 'TICKET-007', 'error_name': 'Network Connectivity Lost'},\n",
       " {'id': 'TICKET-008', 'error_name': 'Permission Denied'},\n",
       " {'id': 'TICKET-009', 'error_name': 'Service Unavailable'},\n",
       " {'id': 'TICKET-010', 'error_name': 'Configuration File Missing'}]"
      ]
     },
     "execution_count": 2,
     "metadata": {},
     "output_type": "execute_result"
    }
   ],
   "source": [
    "log_data"
   ]
  },
  {
   "cell_type": "markdown",
   "metadata": {},
   "source": [
    "We use a dictionary to simulate knowledgebase usage, here the key is the error name and the value is a series of steps"
   ]
  },
  {
   "cell_type": "code",
   "execution_count": 3,
   "metadata": {},
   "outputs": [
    {
     "data": {
      "text/plain": [
       "{'Connection Timeout': '1. Check network connectivity between client and server\\n2. Verify if the server is running and accessible\\n3. Increase the connection timeout settings\\n4. Check for firewall rules blocking the connection\\n5. Monitor network latency and bandwidth\\n    ',\n",
       " 'Database Authentication Failed': '1. Verify database credentials are correct\\n2. Check if the database user account is locked\\n3. Ensure database service is running\\n4. Review database access permissions\\n5. Check for recent password changes\\n    ',\n",
       " 'Memory Overflow': '1. Analyze application memory usage patterns\\n2. Increase available memory or swap space\\n3. Look for memory leaks in the application\\n4. Optimize database queries and caching\\n5. Consider implementing memory pooling\\n    ',\n",
       " 'API Rate Limit Exceeded': '1. Implement request throttling\\n2. Use caching to reduce API calls\\n3. Review API usage patterns\\n4. Contact service provider for limit increase\\n5. Optimize API call frequency\\n    ',\n",
       " 'Invalid SSL Certificate': '1. Check certificate expiration date\\n2. Verify certificate chain is complete\\n3. Ensure certificate matches domain name\\n4. Update SSL certificate if expired\\n5. Check certificate authority validity\\n    ',\n",
       " 'Disk Space Full': '1. Remove temporary and unnecessary files\\n2. Implement log rotation\\n3. Archive old data\\n4. Expand disk space\\n5. Monitor disk usage trends\\n    ',\n",
       " 'Network Connectivity Lost': '1. Check physical network connections\\n2. Verify router and switch status\\n3. Test DNS resolution\\n4. Check for network interface errors\\n5. Monitor network traffic patterns\\n    ',\n",
       " 'Permission Denied': '1. Review user access rights\\n2. Check file and directory permissions\\n3. Verify group memberships\\n4. Update security policies\\n5. Audit access control lists\\n    ',\n",
       " 'Service Unavailable': '1. Check service status and logs\\n2. Restart the service\\n3. Verify dependencies are running\\n4. Check system reyour source documents. Monitor service health metrics\\n    ',\n",
       " 'Configuration File Missing': '1. Locate backup configuration files\\n2. Restore from version control\\n3. Create new configuration file with default settings\\n4. Check file path and permissions\\n5. Verify application deployment process\\n    '}"
      ]
     },
     "execution_count": 3,
     "metadata": {},
     "output_type": "execute_result"
    }
   ],
   "source": [
    "knowledge_base"
   ]
  },
  {
   "cell_type": "markdown",
   "metadata": {},
   "source": [
    "### LangGraph"
   ]
  },
  {
   "cell_type": "markdown",
   "metadata": {},
   "source": [
    "First Lets import libaries from LangGraph Framework. here: \n",
    "1. `create_react_agent`: Create an agent that uses ReAct prompting.\n",
    "2. `init_chat_model`: Initialize a ChatModel in a single line using the model’s name and provider.\n",
    "3. `langchain_core.tools`: Tool that takes in function or coroutine directly. You can customize your tool with `@tool` decoration"
   ]
  },
  {
   "cell_type": "code",
   "execution_count": 4,
   "metadata": {},
   "outputs": [],
   "source": [
    "from langgraph.prebuilt import create_react_agent\n",
    "from langchain.chat_models import init_chat_model\n",
    "from langchain_core.tools import tool"
   ]
  },
  {
   "cell_type": "markdown",
   "metadata": {},
   "source": [
    "Now let's create the tools that our agent will use to interact with the data:"
   ]
  },
  {
   "cell_type": "code",
   "execution_count": 5,
   "metadata": {},
   "outputs": [],
   "source": [
    "@tool \n",
    "def log_identifier(ticket_id: str) -> str:\n",
    "    \"\"\"Get error type from ticket number\n",
    "\n",
    "    Args:\n",
    "        ticket_id: ticket id\n",
    "\n",
    "    Returns:\n",
    "        an error type\n",
    "\n",
    "    \"\"\"\n",
    "    if ticket_id not in log_data_set:\n",
    "        return \"ticket id not found in the database\"\n",
    "    \n",
    "    for item in log_data:\n",
    "        if item[\"id\"] == ticket_id:\n",
    "            return item['error_name']\n",
    "\n",
    "@tool(return_direct=True)\n",
    "def information_retriever(error_type: str) -> str:\n",
    "    \"\"\"Retriever error solution based on error type\n",
    "\n",
    "    Args:\n",
    "        error_type: user input error type\n",
    "    \n",
    "    Returns:\n",
    "        a str of steps \n",
    "    \"\"\"\n",
    "\n",
    "    if error_type not in knowledge_base.keys():\n",
    "        return \"error type not found in the knowledge base, please use your own knowledge\"\n",
    "    \n",
    "    return knowledge_base[error_type]\n",
    "\n"
   ]
  },
  {
   "cell_type": "markdown",
   "metadata": {},
   "source": [
    "**Explanation**: \n",
    "1. The `log_identifier` tool is our first agent tool. It takes a ticket ID as input and searches through our log data to find the corresponding error type. The `@tool` decorator from LangChain converts this function into a tool that the agent can use. Notice how we include a detailed docstring - this is crucial as the agent uses this information to understand when and how to use the tool.\n",
    "2. The `information_retriever` tool looks up solutions in our knowledge base. The return_direct=True parameter is important here - it tells the agent to return the result directly to the user without further processing, which is perfect for our final solution steps.\n",
    "\n",
    "We add both `@tool` decorator above the function definition to indicate this is a LangGraph tool"
   ]
  },
  {
   "cell_type": "markdown",
   "metadata": {},
   "source": [
    "### Setting Up Language Model"
   ]
  },
  {
   "cell_type": "markdown",
   "metadata": {},
   "source": [
    " We initialize our language model using Claude 3.5 Haiku through AWS Bedrock. This model will power our agent's reasoning and decision-making capabilities. The init_chat_model function provides a standardized way to initialize different LLM providers."
   ]
  },
  {
   "cell_type": "code",
   "execution_count": 6,
   "metadata": {},
   "outputs": [],
   "source": [
    "llm = init_chat_model(\n",
    "    model= \"us.anthropic.claude-3-5-haiku-20241022-v1:0\",\n",
    "    model_provider=\"bedrock_converse\",\n",
    ")"
   ]
  },
  {
   "cell_type": "markdown",
   "metadata": {},
   "source": [
    "The system prompt is crucial for defining the agent's personality and behavior. We tell the agent it's an ETL error resolution expert and provide clear instructions about the available tools and the expected workflow. The formatting requirements ensure consistent, clean output that users can easily follow.\n",
    "\n",
    "The `create_react_agent` function creates a ReAct (Reasoning and Acting) agent. This type of agent can reason about problems and decide which tools to use in what order. We pass in our language model, the tools we created, and our system prompt to define the agent's capabilities and behavior."
   ]
  },
  {
   "cell_type": "code",
   "execution_count": 7,
   "metadata": {},
   "outputs": [],
   "source": [
    "system_prompt = \"\"\"\n",
    "You are an expert a resolving ETL errors. You are equiped with two tools: \n",
    "1. log_identifier: Get error type from ticket number\n",
    "2. information_retriever: Retriever error solution based on error type\n",
    "\n",
    "You will use the ticket ID to gather information about the error using the log_identifier tool. \n",
    "Then you should search the database for information on how to resolve the error using the information_retriever tool\n",
    "\n",
    "Return ONLY the numbered steps without any introduction or conclusion. Format as:\n",
    "1. step 1 text\n",
    "2. step 2 text\n",
    "...\n",
    "\"\"\"\n",
    "\n",
    "agent = create_react_agent(\n",
    "    model=llm,\n",
    "    tools= [log_identifier, information_retriever], \n",
    "    prompt=system_prompt\n",
    ")"
   ]
  },
  {
   "cell_type": "markdown",
   "metadata": {},
   "source": [
    "Now let's define a clean interface for interacting with our agent. It formats the input as a message (following the chat format), invokes the agent, and extracts the final response content. The agent will automatically use the tools in the correct sequence to resolve the ticket."
   ]
  },
  {
   "cell_type": "code",
   "execution_count": 8,
   "metadata": {},
   "outputs": [],
   "source": [
    "def get_langGraph_agent_response(ticket_id = 'TICKET-001'):\n",
    "    # Prepare input for the agent\n",
    "    agent_input = {\"messages\": [{\"role\": \"user\", \"content\": ticket_id}]}\n",
    "    response = agent.invoke(agent_input)\n",
    "    return response"
   ]
  },
  {
   "cell_type": "markdown",
   "metadata": {},
   "source": [
    "Finally, we test our agent with a sample ticket ID. The agent should:\n",
    "\n",
    "1. Use the log_identifier tool to find that TICKET-001 corresponds to \"Connection Timeout\"\n",
    "2. Use the information_retriever tool to get the solution steps\n",
    "3. Return the formatted solution steps to the user\n",
    "\n",
    "When you run this code, you should see a numbered list of steps for resolving connection timeout issues, demonstrating that your agent successfully chained the tools together to provide a complete solution."
   ]
  },
  {
   "cell_type": "code",
   "execution_count": 9,
   "metadata": {},
   "outputs": [
    {
     "name": "stdout",
     "output_type": "stream",
     "text": [
      "1. Check network connectivity between client and server\n",
      "2. Verify if the server is running and accessible\n",
      "3. Increase the connection timeout settings\n",
      "4. Check for firewall rules blocking the connection\n",
      "5. Monitor network latency and bandwidth\n",
      "    \n"
     ]
    }
   ],
   "source": [
    "langGraph_agent_response = get_langGraph_agent_response(ticket_id = 'TICKET-001')\n",
    "print(langGraph_agent_response['messages'][-1].content)"
   ]
  },
  {
   "cell_type": "markdown",
   "metadata": {},
   "source": [
    "### Strands Agents"
   ]
  },
  {
   "cell_type": "markdown",
   "metadata": {},
   "source": [
    "Strands Agent has very similar customize tool functionality like LangGraph, Lets first import libaries from Strands Agents Framework. here: "
   ]
  },
  {
   "cell_type": "code",
   "execution_count": 10,
   "metadata": {},
   "outputs": [],
   "source": [
    "from strands import Agent, tool "
   ]
  },
  {
   "cell_type": "markdown",
   "metadata": {},
   "source": [
    "\n",
    "In Strands Agents, you can use similar strands `@tool` decoration to define your own tools. This is exactly the same to how we define tools for LangGraph Agent"
   ]
  },
  {
   "cell_type": "code",
   "execution_count": 11,
   "metadata": {},
   "outputs": [],
   "source": [
    "@tool \n",
    "def log_identifier(ticket_id: str) -> str:\n",
    "    \"\"\"Get error type from ticket number\n",
    "\n",
    "    Args:\n",
    "        ticket_id: ticket id\n",
    "\n",
    "    Returns:\n",
    "        an error type\n",
    "\n",
    "    \"\"\"\n",
    "    if ticket_id not in log_data_set:\n",
    "        return \"ticket id not found in the database\"\n",
    "    \n",
    "    for item in log_data:\n",
    "        if item[\"id\"] == ticket_id:\n",
    "            return item['error_name']\n",
    "\n",
    "@tool\n",
    "def information_retriever(error_type: str) -> str:\n",
    "    \"\"\"Retriever error solution based on error type\n",
    "\n",
    "    Args:\n",
    "        error_type: user input error type\n",
    "    \n",
    "    Returns:\n",
    "        a str of steps \n",
    "    \"\"\"\n",
    "\n",
    "    if error_type not in knowledge_base.keys():\n",
    "        return \"error type not found in the knowledge base, please use your own knowledge\"\n",
    "    \n",
    "    return knowledge_base[error_type]\n",
    "\n"
   ]
  },
  {
   "cell_type": "markdown",
   "metadata": {},
   "source": [
    "We will use the same system prompt like we did in LangGraph Agent, in Strands Agents, you can define an Agent using Agent interface:\n",
    "`Agent(model = , system_prompt = , tools = [])`: "
   ]
  },
  {
   "cell_type": "code",
   "execution_count": 12,
   "metadata": {},
   "outputs": [],
   "source": [
    "system_prompt = \"\"\"\n",
    "You are an expert a resolving ETL errors. You are equiped with two tools: \n",
    "1. log_identifier: Get error type from ticket number\n",
    "2. information_retriever: Retriever error solution based on error type\n",
    "\n",
    "You will use the ticket ID to gather information about the error using the log_identifier tool. \n",
    "Then you should search the database for information on how to resolve the error using the information_retriever tool\n",
    "\n",
    "Return ONLY the numbered steps without any introduction or conclusion. Format as:\n",
    "1. step 1 text\n",
    "2. step 2 text\n",
    "...\n",
    "\"\"\"\n",
    "strands_agent = Agent(model=\"us.anthropic.claude-3-5-haiku-20241022-v1:0\", system_prompt= system_prompt, tools= [log_identifier, information_retriever])"
   ]
  },
  {
   "cell_type": "markdown",
   "metadata": {},
   "source": [
    "Now let's define a `get_strands_agent_response` method to invokes the agent, and extracts the final response content. The agent will automatically use the tools in the correct sequence to resolve the ticket."
   ]
  },
  {
   "cell_type": "code",
   "execution_count": 13,
   "metadata": {},
   "outputs": [
    {
     "name": "stdout",
     "output_type": "stream",
     "text": [
      "I'll help you resolve the error for TICKET-001 by first identifying the error type and then retrieving the solution.\n",
      "Tool #1: log_identifier\n",
      "Now, I'll retrieve the solution for the Connection Timeout error:\n",
      "Tool #2: information_retriever\n",
      "1. Check network connectivity between client and server\n",
      "2. Verify if the server is running and accessible\n",
      "3. Increase the connection timeout settings\n",
      "4. Check for firewall rules blocking the connection\n",
      "5. Monitor network latency and bandwidth\n",
      "Final Answer: \n",
      " 1. Check network connectivity between client and server\n",
      "2. Verify if the server is running and accessible\n",
      "3. Increase the connection timeout settings\n",
      "4. Check for firewall rules blocking the connection\n",
      "5. Monitor network latency and bandwidth\n"
     ]
    }
   ],
   "source": [
    "def get_strands_agent_response(ticket_id = 'TICKET-001'):\n",
    "    strands_agent_result = strands_agent('TICKET-001')\n",
    "\n",
    "    try: \n",
    "        return strands_agent_result.message['content'][-1]['text']\n",
    "    except:\n",
    "        return strands_agent_result.message['content']\n",
    "\n",
    "strands_agent_response = get_strands_agent_response(ticket_id = 'TICKET-001')\n",
    "print(\"\\nFinal Answer: \\n\", strands_agent_response)"
   ]
  }
 ],
 "metadata": {
  "kernelspec": {
   "display_name": "base",
   "language": "python",
   "name": "python3"
  },
  "language_info": {
   "codemirror_mode": {
    "name": "ipython",
    "version": 3
   },
   "file_extension": ".py",
   "mimetype": "text/x-python",
   "name": "python",
   "nbconvert_exporter": "python",
   "pygments_lexer": "ipython3",
   "version": "3.12.9"
  }
 },
 "nbformat": 4,
 "nbformat_minor": 2
}
