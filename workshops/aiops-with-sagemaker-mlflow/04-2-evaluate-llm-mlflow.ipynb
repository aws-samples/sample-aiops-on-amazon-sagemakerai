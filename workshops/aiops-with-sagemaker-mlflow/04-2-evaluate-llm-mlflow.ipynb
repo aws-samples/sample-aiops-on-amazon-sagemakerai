{
 "cells": [
  {
   "cell_type": "code",
   "execution_count": 6,
   "id": "07c08c66",
   "metadata": {},
   "outputs": [],
   "source": [
    "# from dotenv import load_dotenv\n",
    "# load_dotenv()\n",
    "import os\n",
    "import boto3\n",
    "\n",
    "from sagemaker.modules.train import ModelTrainer\n",
    "from sagemaker.modules.configs import Compute, SourceCode, StoppingCondition\n",
    "\n",
    "\n",
    "\n",
    "# iam = boto3.client('iam')\n",
    "# role = iam.get_role(RoleName='sagemaker')['Role']['Arn']"
   ]
  },
  {
   "cell_type": "code",
   "execution_count": 7,
   "id": "c119baf2",
   "metadata": {},
   "outputs": [],
   "source": [
    "pytorch_image = '763104351884.dkr.ecr.us-east-1.amazonaws.com/pytorch-training:2.8.0-gpu-py312-cu129-ubuntu22.04-sagemaker'\n",
    "# define the script to be run\n",
    "source_code = SourceCode(\n",
    "    source_dir=\"scripts\",\n",
    "    entry_script=\"eval.sh\",\n",
    ")\n",
    "\n",
    "from huggingface_hub import HfFolder\n",
    "\n",
    "model_id = 'Qwen/Qwen3-0.6B'\n",
    "dataset_name = 'Josephgflowers/Finance-Instruct-500k'\n",
    "\n",
    "environment = {\n",
    "    'HF_TOKEN': HfFolder.get_token(),\n",
    "    \"HF_DATASET\": dataset_name,\n",
    "    \"MODEL_ID\": model_id,\n",
    "    \"MLFLOW_TRACKING_URI\": os.getenv(\n",
    "        'MLFLOW_TRACKING_URI',\n",
    "        'arn:aws:sagemaker:us-east-1:198346569064:mlflow-tracking-server/vlm-finetuning-server',\n",
    "    ),\n",
    "    \"MLFLOW_EXPERIMENT_NAME\": \"qwen3-06b-lora-ft-finance\",\n",
    "    \"NUM_SAMPLES\": '10',\n",
    "}\n",
    "\n",
    "# experiment_name = 'qwen3-06b-lora-ft-finance'\n",
    "# run_name = 'qwen3-06b-finance'\n",
    "\n",
    "hyperparameters = {\n",
    "    \"model_id\": model_id,\n",
    "    \"adapter_path\": 's3://sagemaker-us-east-1-198346569064/qwen3-06b-fine-tuned/',\n",
    "    'dataset_name': dataset_name,\n",
    "    'experiment_name': 'qwen3-06b-lora-ft-finance',\n",
    "    'run_name': 'fine-tuning-run-1'\n",
    "}\n",
    "\n",
    "assert (\n",
    "    environment[\"MLFLOW_TRACKING_URI\"] != \"XXX\"\n",
    "), \"Please set your MLFLOW_TRACKING_URI in the environment variable\"\n",
    "\n",
    "assert (\n",
    "    environment[\"HF_TOKEN\"] is not None\n",
    "), \"Please set your HF_TOKEN in the environment variable\""
   ]
  },
  {
   "cell_type": "code",
   "execution_count": 8,
   "id": "88c24185",
   "metadata": {},
   "outputs": [],
   "source": [
    "stopping_condition = StoppingCondition(\n",
    "    max_runtime_in_seconds=60 * 60 * 10,  # seconds * minutes * hours\n",
    ")\n",
    "\n",
    "compute = Compute(\n",
    "    instance_count=1,\n",
    "    instance_type=\"ml.g5.2xlarge\",\n",
    "    # volume_size_in_gb=96,\n",
    "    keep_alive_period_in_seconds=3600,\n",
    ")"
   ]
  },
  {
   "cell_type": "code",
   "execution_count": 9,
   "id": "a3d7789c",
   "metadata": {},
   "outputs": [
    {
     "data": {
      "text/html": [
       "<pre style=\"white-space:pre;overflow-x:auto;line-height:normal;font-family:Menlo,'DejaVu Sans Mono',consolas,'Courier New',monospace\"><span style=\"color: #7fbfbf; text-decoration-color: #7fbfbf\">[10/09/25 16:20:16] </span><span style=\"color: #d7af00; text-decoration-color: #d7af00; font-weight: bold\">WARNING </span> SageMaker session not provided. Using default Session.            <a href=\"file:///home/sagemaker-user/aiops-fine-tune-eval/.venv/lib/python3.12/site-packages/sagemaker/modules/train/model_trainer.py\" target=\"_blank\"><span style=\"color: #7f7f7f; text-decoration-color: #7f7f7f\">model_trainer.py</span></a><span style=\"color: #7f7f7f; text-decoration-color: #7f7f7f\">:</span><a href=\"file:///home/sagemaker-user/aiops-fine-tune-eval/.venv/lib/python3.12/site-packages/sagemaker/modules/train/model_trainer.py#501\" target=\"_blank\"><span style=\"color: #7f7f7f; text-decoration-color: #7f7f7f\">501</span></a>\n",
       "</pre>\n"
      ],
      "text/plain": [
       "\u001b[2;36m[10/09/25 16:20:16]\u001b[0m\u001b[2;36m \u001b[0m\u001b[1;38;2;215;175;0mWARNING \u001b[0m SageMaker session not provided. Using default Session.            \u001b]8;id=684456;file:///home/sagemaker-user/aiops-fine-tune-eval/.venv/lib/python3.12/site-packages/sagemaker/modules/train/model_trainer.py\u001b\\\u001b[2mmodel_trainer.py\u001b[0m\u001b]8;;\u001b\\\u001b[2m:\u001b[0m\u001b]8;id=466496;file:///home/sagemaker-user/aiops-fine-tune-eval/.venv/lib/python3.12/site-packages/sagemaker/modules/train/model_trainer.py#501\u001b\\\u001b[2m501\u001b[0m\u001b]8;;\u001b\\\n"
      ]
     },
     "metadata": {},
     "output_type": "display_data"
    },
    {
     "data": {
      "text/html": [
       "<pre style=\"white-space:pre;overflow-x:auto;line-height:normal;font-family:Menlo,'DejaVu Sans Mono',consolas,'Courier New',monospace\"><span style=\"color: #7fbfbf; text-decoration-color: #7fbfbf\">                    </span><span style=\"color: #d7af00; text-decoration-color: #d7af00; font-weight: bold\">WARNING </span> Role not provided. Using default role:                            <a href=\"file:///home/sagemaker-user/aiops-fine-tune-eval/.venv/lib/python3.12/site-packages/sagemaker/modules/train/model_trainer.py\" target=\"_blank\"><span style=\"color: #7f7f7f; text-decoration-color: #7f7f7f\">model_trainer.py</span></a><span style=\"color: #7f7f7f; text-decoration-color: #7f7f7f\">:</span><a href=\"file:///home/sagemaker-user/aiops-fine-tune-eval/.venv/lib/python3.12/site-packages/sagemaker/modules/train/model_trainer.py#505\" target=\"_blank\"><span style=\"color: #7f7f7f; text-decoration-color: #7f7f7f\">505</span></a>\n",
       "<span style=\"color: #7fbfbf; text-decoration-color: #7fbfbf\">                    </span>         arn:aws:iam::<span style=\"color: #008080; text-decoration-color: #008080; font-weight: bold\">198346569064</span>:role/service-role/AmazonSageMaker-Execu <span style=\"color: #7f7f7f; text-decoration-color: #7f7f7f\">                    </span>\n",
       "<span style=\"color: #7fbfbf; text-decoration-color: #7fbfbf\">                    </span>         tionRole-20250915T164900                                          <span style=\"color: #7f7f7f; text-decoration-color: #7f7f7f\">                    </span>\n",
       "</pre>\n"
      ],
      "text/plain": [
       "\u001b[2;36m                   \u001b[0m\u001b[2;36m \u001b[0m\u001b[1;38;2;215;175;0mWARNING \u001b[0m Role not provided. Using default role:                            \u001b]8;id=340671;file:///home/sagemaker-user/aiops-fine-tune-eval/.venv/lib/python3.12/site-packages/sagemaker/modules/train/model_trainer.py\u001b\\\u001b[2mmodel_trainer.py\u001b[0m\u001b]8;;\u001b\\\u001b[2m:\u001b[0m\u001b]8;id=537978;file:///home/sagemaker-user/aiops-fine-tune-eval/.venv/lib/python3.12/site-packages/sagemaker/modules/train/model_trainer.py#505\u001b\\\u001b[2m505\u001b[0m\u001b]8;;\u001b\\\n",
       "\u001b[2;36m                    \u001b[0m         arn:aws:iam::\u001b[1;36m198346569064\u001b[0m:role/service-role/AmazonSageMaker-Execu \u001b[2m                    \u001b[0m\n",
       "\u001b[2;36m                    \u001b[0m         tionRole-20250915T164900                                          \u001b[2m                    \u001b[0m\n"
      ]
     },
     "metadata": {},
     "output_type": "display_data"
    },
    {
     "data": {
      "text/html": [
       "<pre style=\"white-space:pre;overflow-x:auto;line-height:normal;font-family:Menlo,'DejaVu Sans Mono',consolas,'Courier New',monospace\"><span style=\"color: #7fbfbf; text-decoration-color: #7fbfbf\">                    </span><span style=\"color: #d7af00; text-decoration-color: #d7af00; font-weight: bold\">WARNING </span> OutputDataConfig not provided. Using default:                     <a href=\"file:///home/sagemaker-user/aiops-fine-tune-eval/.venv/lib/python3.12/site-packages/sagemaker/modules/train/model_trainer.py\" target=\"_blank\"><span style=\"color: #7f7f7f; text-decoration-color: #7f7f7f\">model_trainer.py</span></a><span style=\"color: #7f7f7f; text-decoration-color: #7f7f7f\">:</span><a href=\"file:///home/sagemaker-user/aiops-fine-tune-eval/.venv/lib/python3.12/site-packages/sagemaker/modules/train/model_trainer.py#567\" target=\"_blank\"><span style=\"color: #7f7f7f; text-decoration-color: #7f7f7f\">567</span></a>\n",
       "<span style=\"color: #7fbfbf; text-decoration-color: #7fbfbf\">                    </span>         <span style=\"color: #d7af00; text-decoration-color: #d7af00\">s3_output_path</span>=<span style=\"color: #008700; text-decoration-color: #008700\">'s3://sagemaker-us-east-1-198346569064/mlflow-eval</span> <span style=\"color: #7f7f7f; text-decoration-color: #7f7f7f\">                    </span>\n",
       "<span style=\"color: #7fbfbf; text-decoration-color: #7fbfbf\">                    </span>         <span style=\"color: #008700; text-decoration-color: #008700\">-llmaaj'</span> <span style=\"color: #d7af00; text-decoration-color: #d7af00\">kms_key_id</span>=<span style=\"color: #e100e1; text-decoration-color: #e100e1; font-style: italic\">None</span> <span style=\"color: #d7af00; text-decoration-color: #d7af00\">compression_type</span>=<span style=\"color: #008700; text-decoration-color: #008700\">'GZIP'</span>                  <span style=\"color: #7f7f7f; text-decoration-color: #7f7f7f\">                    </span>\n",
       "</pre>\n"
      ],
      "text/plain": [
       "\u001b[2;36m                   \u001b[0m\u001b[2;36m \u001b[0m\u001b[1;38;2;215;175;0mWARNING \u001b[0m OutputDataConfig not provided. Using default:                     \u001b]8;id=947351;file:///home/sagemaker-user/aiops-fine-tune-eval/.venv/lib/python3.12/site-packages/sagemaker/modules/train/model_trainer.py\u001b\\\u001b[2mmodel_trainer.py\u001b[0m\u001b]8;;\u001b\\\u001b[2m:\u001b[0m\u001b]8;id=941742;file:///home/sagemaker-user/aiops-fine-tune-eval/.venv/lib/python3.12/site-packages/sagemaker/modules/train/model_trainer.py#567\u001b\\\u001b[2m567\u001b[0m\u001b]8;;\u001b\\\n",
       "\u001b[2;36m                    \u001b[0m         \u001b[38;2;215;175;0ms3_output_path\u001b[0m=\u001b[38;2;0;135;0m's3://sagemaker-us-east-1-198346569064/mlflow-eval\u001b[0m \u001b[2m                    \u001b[0m\n",
       "\u001b[2;36m                    \u001b[0m         \u001b[38;2;0;135;0m-llmaaj'\u001b[0m \u001b[38;2;215;175;0mkms_key_id\u001b[0m=\u001b[3;38;2;225;0;225mNone\u001b[0m \u001b[38;2;215;175;0mcompression_type\u001b[0m=\u001b[38;2;0;135;0m'GZIP'\u001b[0m                  \u001b[2m                    \u001b[0m\n"
      ]
     },
     "metadata": {},
     "output_type": "display_data"
    },
    {
     "data": {
      "text/html": [
       "<pre style=\"white-space:pre;overflow-x:auto;line-height:normal;font-family:Menlo,'DejaVu Sans Mono',consolas,'Courier New',monospace\"><span style=\"color: #7fbfbf; text-decoration-color: #7fbfbf\">                    </span><span style=\"color: #0069ff; text-decoration-color: #0069ff; font-weight: bold\">INFO    </span> Training image URI:                                               <a href=\"file:///home/sagemaker-user/aiops-fine-tune-eval/.venv/lib/python3.12/site-packages/sagemaker/modules/train/model_trainer.py\" target=\"_blank\"><span style=\"color: #7f7f7f; text-decoration-color: #7f7f7f\">model_trainer.py</span></a><span style=\"color: #7f7f7f; text-decoration-color: #7f7f7f\">:</span><a href=\"file:///home/sagemaker-user/aiops-fine-tune-eval/.venv/lib/python3.12/site-packages/sagemaker/modules/train/model_trainer.py#588\" target=\"_blank\"><span style=\"color: #7f7f7f; text-decoration-color: #7f7f7f\">588</span></a>\n",
       "<span style=\"color: #7fbfbf; text-decoration-color: #7fbfbf\">                    </span>         <span style=\"color: #008080; text-decoration-color: #008080; font-weight: bold\">763104351884.</span>dkr.ecr.us-east-<span style=\"color: #008080; text-decoration-color: #008080; font-weight: bold\">1.</span>amazonaws.com/pytorch-training:<span style=\"color: #008080; text-decoration-color: #008080; font-weight: bold\">2.8</span> <span style=\"color: #7f7f7f; text-decoration-color: #7f7f7f\">                    </span>\n",
       "<span style=\"color: #7fbfbf; text-decoration-color: #7fbfbf\">                    </span>         .<span style=\"color: #008080; text-decoration-color: #008080; font-weight: bold\">0</span>-gpu-py312-cu129-ubuntu22.<span style=\"color: #008080; text-decoration-color: #008080; font-weight: bold\">04</span>-sagemaker                          <span style=\"color: #7f7f7f; text-decoration-color: #7f7f7f\">                    </span>\n",
       "</pre>\n"
      ],
      "text/plain": [
       "\u001b[2;36m                   \u001b[0m\u001b[2;36m \u001b[0m\u001b[1;38;2;0;105;255mINFO    \u001b[0m Training image URI:                                               \u001b]8;id=473001;file:///home/sagemaker-user/aiops-fine-tune-eval/.venv/lib/python3.12/site-packages/sagemaker/modules/train/model_trainer.py\u001b\\\u001b[2mmodel_trainer.py\u001b[0m\u001b]8;;\u001b\\\u001b[2m:\u001b[0m\u001b]8;id=89260;file:///home/sagemaker-user/aiops-fine-tune-eval/.venv/lib/python3.12/site-packages/sagemaker/modules/train/model_trainer.py#588\u001b\\\u001b[2m588\u001b[0m\u001b]8;;\u001b\\\n",
       "\u001b[2;36m                    \u001b[0m         \u001b[1;36m763104351884.\u001b[0mdkr.ecr.us-east-\u001b[1;36m1.\u001b[0mamazonaws.com/pytorch-training:\u001b[1;36m2.8\u001b[0m \u001b[2m                    \u001b[0m\n",
       "\u001b[2;36m                    \u001b[0m         .\u001b[1;36m0\u001b[0m-gpu-py312-cu129-ubuntu22.\u001b[1;36m04\u001b[0m-sagemaker                          \u001b[2m                    \u001b[0m\n"
      ]
     },
     "metadata": {},
     "output_type": "display_data"
    }
   ],
   "source": [
    "base_job_name = \"mlflow-eval-llmaaj\"\n",
    "\n",
    "# define the ModelTrainer\n",
    "model_trainer = ModelTrainer(\n",
    "    training_image=pytorch_image,\n",
    "    source_code=source_code,\n",
    "    stopping_condition=stopping_condition,\n",
    "    base_job_name=base_job_name,\n",
    "    compute=compute,\n",
    "    environment=environment,\n",
    "    hyperparameters=hyperparameters,\n",
    ")"
   ]
  },
  {
   "cell_type": "code",
   "execution_count": 10,
   "id": "a81fb69a",
   "metadata": {},
   "outputs": [
    {
     "data": {
      "text/html": [
       "<pre style=\"white-space:pre;overflow-x:auto;line-height:normal;font-family:Menlo,'DejaVu Sans Mono',consolas,'Courier New',monospace\"><span style=\"color: #7fbfbf; text-decoration-color: #7fbfbf\">[10/09/25 16:20:18] </span><span style=\"color: #0069ff; text-decoration-color: #0069ff; font-weight: bold\">INFO    </span> Creating training_job resource.                                     <a href=\"file:///home/sagemaker-user/aiops-fine-tune-eval/.venv/lib/python3.12/site-packages/sagemaker_core/main/resources.py\" target=\"_blank\"><span style=\"color: #7f7f7f; text-decoration-color: #7f7f7f\">resources.py</span></a><span style=\"color: #7f7f7f; text-decoration-color: #7f7f7f\">:</span><a href=\"file:///home/sagemaker-user/aiops-fine-tune-eval/.venv/lib/python3.12/site-packages/sagemaker_core/main/resources.py#28522\" target=\"_blank\"><span style=\"color: #7f7f7f; text-decoration-color: #7f7f7f\">28522</span></a>\n",
       "</pre>\n"
      ],
      "text/plain": [
       "\u001b[2;36m[10/09/25 16:20:18]\u001b[0m\u001b[2;36m \u001b[0m\u001b[1;38;2;0;105;255mINFO    \u001b[0m Creating training_job resource.                                     \u001b]8;id=274944;file:///home/sagemaker-user/aiops-fine-tune-eval/.venv/lib/python3.12/site-packages/sagemaker_core/main/resources.py\u001b\\\u001b[2mresources.py\u001b[0m\u001b]8;;\u001b\\\u001b[2m:\u001b[0m\u001b]8;id=874984;file:///home/sagemaker-user/aiops-fine-tune-eval/.venv/lib/python3.12/site-packages/sagemaker_core/main/resources.py#28522\u001b\\\u001b[2m28522\u001b[0m\u001b]8;;\u001b\\\n"
      ]
     },
     "metadata": {},
     "output_type": "display_data"
    },
    {
     "data": {
      "text/html": [
       "<pre style=\"white-space:pre;overflow-x:auto;line-height:normal;font-family:Menlo,'DejaVu Sans Mono',consolas,'Courier New',monospace\"><span style=\"color: #7fbfbf; text-decoration-color: #7fbfbf\">[10/09/25 16:20:18] </span><span style=\"color: #d7af00; text-decoration-color: #d7af00; font-weight: bold\">WARNING </span> Not displaing the training container logs as <span style=\"color: #008700; text-decoration-color: #008700\">'wait'</span> is set to     <a href=\"file:///home/sagemaker-user/aiops-fine-tune-eval/.venv/lib/python3.12/site-packages/sagemaker/modules/train/model_trainer.py\" target=\"_blank\"><span style=\"color: #7f7f7f; text-decoration-color: #7f7f7f\">model_trainer.py</span></a><span style=\"color: #7f7f7f; text-decoration-color: #7f7f7f\">:</span><a href=\"file:///home/sagemaker-user/aiops-fine-tune-eval/.venv/lib/python3.12/site-packages/sagemaker/modules/train/model_trainer.py#834\" target=\"_blank\"><span style=\"color: #7f7f7f; text-decoration-color: #7f7f7f\">834</span></a>\n",
       "<span style=\"color: #7fbfbf; text-decoration-color: #7fbfbf\">                    </span>         <span style=\"color: #d70000; text-decoration-color: #d70000; font-style: italic\">False</span>.                                                            <span style=\"color: #7f7f7f; text-decoration-color: #7f7f7f\">                    </span>\n",
       "</pre>\n"
      ],
      "text/plain": [
       "\u001b[2;36m[10/09/25 16:20:18]\u001b[0m\u001b[2;36m \u001b[0m\u001b[1;38;2;215;175;0mWARNING \u001b[0m Not displaing the training container logs as \u001b[38;2;0;135;0m'wait'\u001b[0m is set to     \u001b]8;id=102826;file:///home/sagemaker-user/aiops-fine-tune-eval/.venv/lib/python3.12/site-packages/sagemaker/modules/train/model_trainer.py\u001b\\\u001b[2mmodel_trainer.py\u001b[0m\u001b]8;;\u001b\\\u001b[2m:\u001b[0m\u001b]8;id=186440;file:///home/sagemaker-user/aiops-fine-tune-eval/.venv/lib/python3.12/site-packages/sagemaker/modules/train/model_trainer.py#834\u001b\\\u001b[2m834\u001b[0m\u001b]8;;\u001b\\\n",
       "\u001b[2;36m                    \u001b[0m         \u001b[3;38;2;215;0;0mFalse\u001b[0m.                                                            \u001b[2m                    \u001b[0m\n"
      ]
     },
     "metadata": {},
     "output_type": "display_data"
    }
   ],
   "source": [
    "model_trainer.train(wait=False)"
   ]
  },
  {
   "cell_type": "code",
   "execution_count": 11,
   "id": "3a46cef4",
   "metadata": {},
   "outputs": [],
   "source": [
    "# import mlflow\n",
    "\n",
    "# def get_run_id_from_name(experiment_name: str, run_name: str) -> str:\n",
    "#     # Look up the experiment ID\n",
    "#     experiment = mlflow.get_experiment_by_name(experiment_name)\n",
    "#     if experiment is None:\n",
    "#         raise ValueError(f\"Experiment '{experiment_name}' not found\")\n",
    "\n",
    "#     # Search runs in that experiment by run_name (stored as tag)\n",
    "#     runs = mlflow.search_runs(\n",
    "#         experiment_ids=[experiment.experiment_id],\n",
    "#         filter_string=f\"tags.mlflow.runName = '{run_name}'\"\n",
    "#     )\n",
    "\n",
    "#     if runs.empty:\n",
    "#         raise ValueError(f\"No run found with name '{run_name}' in experiment '{experiment_name}'\")\n",
    "\n",
    "#     # Take the first match (assuming run_name is unique per experiment)\n",
    "#     return runs.iloc[0].run_id\n",
    "# mlflow.set_tracking_uri('arn:aws:sagemaker:us-east-1:198346569064:mlflow-tracking-server/vlm-finetuning-server')\n",
    "# experiment_name = 'qwen3-06b-lora-ft-finance'\n",
    "# run_name = 'qwen3-06b-finance'\n",
    "# run_id = get_run_id_from_name(experiment_name, run_name)\n",
    "# run_id\n"
   ]
  },
  {
   "cell_type": "code",
   "execution_count": 12,
   "id": "64834c54",
   "metadata": {},
   "outputs": [
    {
     "data": {
      "text/plain": [
       "'02699a4cbfde4ba9b95771a5c1b2ff9e'"
      ]
     },
     "execution_count": 12,
     "metadata": {},
     "output_type": "execute_result"
    }
   ],
   "source": [
    "import mlflow\n",
    "\n",
    "mlflow.set_tracking_uri('arn:aws:sagemaker:us-east-1:198346569064:mlflow-tracking-server/vlm-finetuning-server')\n",
    "\n",
    "experiment_name = 'qwen3-06b-lora-ft-finance'\n",
    "run_name = 'qwen3-06b'\n",
    "\n",
    "experiment = mlflow.get_experiment_by_name(experiment_name)\n",
    "\n",
    "\n",
    "# Search runs in that experiment by run_name (stored as tag)\n",
    "runs = mlflow.search_runs(\n",
    "    experiment_ids=[experiment.experiment_id],\n",
    "    filter_string=f\"tags.mlflow.runName = '{run_name}'\"\n",
    ")\n",
    "\n",
    "\n",
    "    # Take the first match (assuming run_name is unique per experiment)\n",
    "id = runs.iloc[0].run_id\n",
    "id"
   ]
  },
  {
   "cell_type": "code",
   "execution_count": 13,
   "id": "6bdc23df",
   "metadata": {},
   "outputs": [
    {
     "data": {
      "text/plain": [
       "'02699a4cbfde4ba9b95771a5c1b2ff9e'"
      ]
     },
     "execution_count": 13,
     "metadata": {},
     "output_type": "execute_result"
    }
   ],
   "source": [
    "id"
   ]
  },
  {
   "cell_type": "code",
   "execution_count": 14,
   "id": "5c93acc4",
   "metadata": {},
   "outputs": [
    {
     "data": {
      "text/plain": [
       "<Experiment: artifact_location='s3://sagemaker-us-east-1-198346569064/mlflow-assets/8', creation_time=1759972361966, experiment_id='8', last_update_time=1759972361966, lifecycle_stage='active', name='qwen3-06b-lora-ft-finance', tags={}>"
      ]
     },
     "execution_count": 14,
     "metadata": {},
     "output_type": "execute_result"
    }
   ],
   "source": [
    "mlflow.set_experiment(experiment_name=experiment_name)"
   ]
  },
  {
   "cell_type": "code",
   "execution_count": 15,
   "id": "19044e8f",
   "metadata": {},
   "outputs": [],
   "source": [
    "\n",
    "# with mlflow.start_run(run_id=id):\n",
    "#     with mlflow.start_run(run_name='my-test-run', nested=True):\n",
    "#         mlflow.log_param('fruit','mango')"
   ]
  },
  {
   "cell_type": "code",
   "execution_count": null,
   "id": "9ddc9645",
   "metadata": {},
   "outputs": [],
   "source": []
  }
 ],
 "metadata": {
  "kernelspec": {
   "display_name": "uv (3.12.11)",
   "language": "python",
   "name": "python3"
  },
  "language_info": {
   "codemirror_mode": {
    "name": "ipython",
    "version": 3
   },
   "file_extension": ".py",
   "mimetype": "text/x-python",
   "name": "python",
   "nbconvert_exporter": "python",
   "pygments_lexer": "ipython3",
   "version": "3.12.9"
  }
 },
 "nbformat": 4,
 "nbformat_minor": 5
}
