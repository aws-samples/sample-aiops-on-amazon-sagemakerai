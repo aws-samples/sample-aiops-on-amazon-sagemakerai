{
 "cells": [
  {
   "cell_type": "markdown",
   "id": "8fb16cc3",
   "metadata": {},
   "source": [
    "# SageMaker MLflow with Strands Agents and Amazon Bedrock AgentCore"
   ]
  },
  {
   "cell_type": "markdown",
   "id": "20688395",
   "metadata": {},
   "source": [
    "This tutorial we will introduce Strands Agents and how to deploy it through Amazon Bedrock AgentCore, we will also show you how to use MLflow for observability "
   ]
  },
  {
   "cell_type": "code",
   "execution_count": null,
   "id": "8d842064-5778-4e6f-933d-19c1fe642293",
   "metadata": {
    "execution": {
     "iopub.execute_input": "2025-09-22T19:43:41.539402Z",
     "iopub.status.busy": "2025-09-22T19:43:41.538632Z",
     "iopub.status.idle": "2025-09-22T19:45:04.150308Z",
     "shell.execute_reply": "2025-09-22T19:45:04.149313Z",
     "shell.execute_reply.started": "2025-09-22T19:43:41.539367Z"
    }
   },
   "outputs": [],
   "source": [
    "# Install dependencies for AgentCore deployment. Ignore any warnings and residual dependency errors.\n",
    "!pip install --force-reinstall -U -r requirements-agentcore.txt --quiet"
   ]
  },
  {
   "cell_type": "code",
   "execution_count": null,
   "id": "7f0393b5-a8ec-490c-b107-b6caf84c11a2",
   "metadata": {
    "execution": {
     "iopub.execute_input": "2025-09-22T19:45:04.152098Z",
     "iopub.status.busy": "2025-09-22T19:45:04.151567Z",
     "iopub.status.idle": "2025-09-22T19:45:04.770267Z",
     "shell.execute_reply": "2025-09-22T19:45:04.769592Z",
     "shell.execute_reply.started": "2025-09-22T19:45:04.152072Z"
    }
   },
   "outputs": [],
   "source": [
    "# Import deployment tools and utilities\n",
    "import uuid\n",
    "from utils import setup_cognito_user_pool, reauthenticate_user, delete_cognito_user_pool\n",
    "from bedrock_agentcore_starter_toolkit import Runtime\n",
    "from boto3.session import Session\n",
    "from typing import Any, Optional\n",
    "import urllib.parse\n",
    "import requests\n",
    "import json\n",
    "\n",
    "# Get current region\n",
    "\n",
    "region = \"us-east-1\" # Enter your region\n",
    "print(f\"Region: {region}\")"
   ]
  },
  {
   "cell_type": "markdown",
   "id": "952b39a0-b095-4ffc-95d2-62b4b07110ff",
   "metadata": {},
   "source": [
    "## What happens behind the scenes?\n",
    "\n",
    "To deploy our agents to `AgentCore Runtime`. To do so we need to:\n",
    "\n",
    "- Import the Runtime App with `from bedrock_agentcore.runtime import BedrockAgentCoreApp`\n",
    "- Initialize the App in our code with `app = BedrockAgentCoreApp()`\n",
    "- Decorate the invocation function with the `@app.entrypoint` decorator\n",
    "- Let AgentCore Runtime control the running of the agent with `app.run()`\n",
    "\n",
    "When you use `BedrockAgentCoreApp`, it automatically:\n",
    "\n",
    "* Creates an HTTP server that listens on port 8080\n",
    "* Implements the required `/invocations` endpoint for processing the agent's requirements\n",
    "* Implements the `/ping` endpoint for health checks (very important for asynchronous agents)\n",
    "* Handles proper content types and response formats\n",
    "* Manages error handling according to AWS standards\n",
    "\n",
    "\n",
    "\n",
    "> In this workshop the IAM permissioning needed for AgentCore runtime deployments are already configured for you. You can learn about the AgentCore runtime IAM permission settings in [AWS documentation](https://docs.aws.amazon.com/bedrock-agentcore/latest/devguide/runtime-permissions.html)."
   ]
  },
  {
   "cell_type": "markdown",
   "id": "38c4e7b5-269b-4b04-a8c8-c0e68490ed58",
   "metadata": {},
   "source": [
    "### Setting up Amazon Cognito for Authentication\n",
    "\n",
    "AgentCore Runtime requires authentication. We'll use Amazon Cognito to provide JWT tokens for accessing our deployed agent server."
   ]
  },
  {
   "cell_type": "code",
   "execution_count": null,
   "id": "fda7de57-8adf-46f9-8a49-4fb779c87ca8",
   "metadata": {
    "execution": {
     "iopub.execute_input": "2025-09-22T19:48:14.187618Z",
     "iopub.status.busy": "2025-09-22T19:48:14.186915Z",
     "iopub.status.idle": "2025-09-22T19:48:17.060972Z",
     "shell.execute_reply": "2025-09-22T19:48:17.060244Z",
     "shell.execute_reply.started": "2025-09-22T19:48:14.187590Z"
    }
   },
   "outputs": [],
   "source": [
    "# Set up Amazon Cognito for AgentCore Runtime authentication\n",
    "print(\"Setting up Amazon Cognito user pool...\")\n",
    "\n",
    "cognito_config = setup_cognito_user_pool()\n",
    "\n",
    "print(\"Cognito setup completed ✓\")\n",
    "print(f\"User Pool ID: {cognito_config.get('user_pool_id', 'N/A')}\")\n",
    "print(f\"Client ID: {cognito_config.get('client_id', 'N/A')}\")\n",
    "\n",
    "# Configure JWT authorization for AgentCore Runtime\n",
    "auth_config = {\n",
    "    \"customJWTAuthorizer\": {\n",
    "        \"allowedClients\": [cognito_config[\"client_id\"]],\n",
    "        \"discoveryUrl\": cognito_config[\"discovery_url\"],\n",
    "    }\n",
    "}"
   ]
  },
  {
   "cell_type": "markdown",
   "id": "858ab3fb-78fc-46f2-83c1-4364bf338977",
   "metadata": {},
   "source": [
    "### Deploying the agent to AgentCore Runtime with SageMaker managed MLflow\n",
    "\n",
    "The `CreateAgentRuntime` operation supports comprehensive configuration options, letting you specify container images, environment variables, and encryption settings. You can also configure protocol settings (HTTP, MCP) and authorization mechanisms to control how your clients communicate with the agent. \n",
    "\n",
    "**Note:** From a Operations/DevOps best practice is to package code as a container and push to ECR using CI/CD pipelines.\n",
    "\n",
    "In this tutorial, we will use the Amazon Bedrock AgentCore Python SDK to package your artifacts and deploy them to AgentCore Runtime.\n",
    "\n",
    "We will retrieve the stored notebook values containing the SageMakerAI MLflow Tracking Server ARN. If the stored value is empty you can copy the tracking server arn from the SageMakerAI MLflow studio console. You will enter the tracking server arn for the variable `_SAGEMAKER_MLFLOW_URI_ARN`."
   ]
  },
  {
   "cell_type": "code",
   "execution_count": null,
   "id": "d291f0f8",
   "metadata": {},
   "outputs": [],
   "source": [
    "# Retrieve values stored from previous labs\n",
    "# If the stored value (or if you get NameError) is empty, set your SageMaker Managed MLflow tracking server ARN copied from prerequisites\n",
    "%store -r \n",
    "\n",
    "%store\n",
    "if TRACKING_SERVER_ARN == \"\":\n",
    "    print(\"ENTER YOUR MLFLOW TRACKING SERVER ARN\")\n",
    "TRACKING_SERVER_ARN\n"
   ]
  },
  {
   "cell_type": "markdown",
   "id": "50545c1d-ed5f-49c4-93b1-e158edc18aff",
   "metadata": {},
   "source": [
    "### Configure AgentCore Runtime deployment with SageMaker managed MLflow\n",
    "We will use `mlflow` python library to enable tracing for the strands agent sdk deployed in AgentCore. To enable tracing we call the `mlflow.autolog()` module which has the integrations needed to automatically process strands agent sdk framework and log the traces into SageMaker managed MLflow. Note: Strands agent framework is support in MLflow version `3.4.0` or higher.\n",
    "\n",
    "In this workshop lab we will use Amazon Bedrock AgentCore Runtime [starter toolkit](https://github.com/aws/bedrock-agentcore-starter-toolkit) to simplyfy the AgentCore Runtime deployment with an entrypoint. The starter kit will configure the Dockerfile and auto-create the Amazon ECR repository on launch. The starter kit will consume the requirements file containing reference to MLflow `v3.4.0+` to generate the strands agent application code.\n",
    "\n",
    "During the configure step, your Dockerfile will be generated based on your application code.\n",
    "\n",
    "![runtime](./static/sagemaker-mlflow-agentCore.png)\n",
    "\n",
    "Important: In the next notebook cell make sure to set the following variables, \n",
    "- `_SAGEMAKER_MLFLOW_URI_ARN`: The ARN of the SageMaker managed MLflow tracking server, for example `arn:aws:sagemaker:<Region>:<AWS-account-id>:mlflow-tracking-server/<Name>`\n",
    "- `_SAGEMAKER_MLFLOW_EXPERIMENT_NAME`: A name for this MLflow experiment, for example `customer_support_genai_agentcore`\n",
    "- `_REGION`: The aws region of the SageMaker managed MLflow tracking server and the AgentCore agent, for example `us-east-1`\n",
    "- `_BEDROCK_MODELID`: The Bedrock model ID, for example `us.anthropic.claude-3-5-haiku-20241022-v1:0`"
   ]
  },
  {
   "cell_type": "markdown",
   "id": "31938b0c",
   "metadata": {},
   "source": [
    "For the agent use-case we will create a Financial Analysis Agent using [Strands Agents](https://strandsagents.com/latest/)\n",
    "\n",
    "Financial Analysis Agent: Focuses on investment research, portfolio management, and market analysis. It consists of 3 tools:\n",
    "- `get_stock_analysis`: Real-time stock data and comprehensive analysis. Example tool use-case \"Analyze Apple stock performance and metrics\" \n",
    "- `create_diversified_portfolio`: Risk-based portfolio recommendations with allocations. Example tool use-case \"Create a moderate risk portfolio for $10,000\" \n",
    "- `compare_stock_performance`: Multi-stock performance comparison over time periods. Example tool use-case \"Compare Tesla, Apple, and Google over 6 months\" "
   ]
  },
  {
   "cell_type": "markdown",
   "id": "a15d4975",
   "metadata": {},
   "source": [
    "<div class=\"alert alert-block alert-warning\">\n",
    "<b>Important:</b> Update `_SAGEMAKER_MLFLOW_URI_ARN` with your SageMaker Managed MLflow tracking server ARN.\n",
    "</div>"
   ]
  },
  {
   "cell_type": "code",
   "execution_count": null,
   "id": "1e2b420c",
   "metadata": {
    "execution": {
     "iopub.execute_input": "2025-09-22T19:49:26.785902Z",
     "iopub.status.busy": "2025-09-22T19:49:26.785596Z",
     "iopub.status.idle": "2025-09-22T19:49:26.794554Z",
     "shell.execute_reply": "2025-09-22T19:49:26.793384Z",
     "shell.execute_reply.started": "2025-09-22T19:49:26.785878Z"
    }
   },
   "outputs": [],
   "source": [
    "%%writefile strands_agentcore_SageMaker_deploy.py\n",
    "# Create AgentCore-SageMaker compatible deployment file with streaming endpoint\n",
    "\n",
    "import yfinance as yf\n",
    "from strands import Agent, tool\n",
    "from strands.models import BedrockModel\n",
    "\n",
    "\n",
    "from strands.agent.conversation_manager import SummarizingConversationManager\n",
    "from bedrock_agentcore import BedrockAgentCoreApp\n",
    "\n",
    "import mlflow\n",
    "from typing import List\n",
    "\n",
    "# Enter the ARN of the SageMaker managed MLflow tracking server\n",
    "_SAGEMAKER_MLFLOW_URI_ARN =  \"ENTER YOUR MLFLOW TRACKING SERVER ARN HERE\" \n",
    "# Enter a name for this MLflow experiment\n",
    "_SAGEMAKER_MLFLOW_EXPERIMENT_NAME = \"customer_support_genai_agentcore\" # <ENTER/REPLACE-VALUE>\n",
    "# Enter the aws region of the SageMaker managed MLflow tracking server and the AgentCore agent\n",
    "_REGION = \"us-east-1\" # <ENTER/REPLACE-VALUE>\n",
    "# Enter the Bedrock model ID \n",
    "_BEDROCK_MODELID = \"us.anthropic.claude-3-5-haiku-20241022-v1:0\" # <ENTER/REPLACE-VALUE>\n",
    "\n",
    "# Set the SageMaker managed MLflow ARN\n",
    "mlflow.set_tracking_uri(_SAGEMAKER_MLFLOW_URI_ARN)\n",
    "# Set the name for this MLflow experiment\n",
    "mlflow.set_experiment(_SAGEMAKER_MLFLOW_EXPERIMENT_NAME)\n",
    "\n",
    "# enable automatic logging of traces\n",
    "mlflow.autolog()\n",
    "\n",
    "app = BedrockAgentCoreApp()\n",
    "agent = Agent()\n",
    "\n",
    "# Financial Analysis Agent System Prompt\n",
    "FINANCIAL_ANALYSIS_PROMPT = \"\"\"You are a specialized financial analysis agent focused on investment research and portfolio recommendations. Your role is to:\n",
    "\n",
    "1. Research and analyze stock performance data\n",
    "2. Create diversified investment portfolios\n",
    "3. Provide data-driven investment recommendations\n",
    "\n",
    "You do not provide specific investment advice but rather present analytical data to help users make informed decisions. Always include disclaimers about market risks and the importance of consulting financial advisors.\"\"\"\n",
    "\n",
    "# Add conversation management to maintain context\n",
    "conversation_manager = SummarizingConversationManager(\n",
    "    summary_ratio=0.3,  # Summarize 30% of messages when context reduction is needed\n",
    "    preserve_recent_messages=5,  # Always keep 5 most recent messages\n",
    ")\n",
    "\n",
    "bedrock_model = BedrockModel(\n",
    "    model_id=_BEDROCK_MODELID,\n",
    "    region_name=_REGION,\n",
    "    temperature=0.0,  # Deterministic responses for financial advice\n",
    ")\n",
    "\n",
    "\n",
    "# Tool 1: Get Stock Analysis\n",
    "@tool\n",
    "def get_stock_analysis(symbol: str) -> str:\n",
    "    \"\"\"Get comprehensive analysis for a specific stock symbol. Fetches the current stock price for a given symbol.\n",
    "\n",
    "    Args:\n",
    "        symbol: The name of the stock symbol (e.g., 'AMZN', 'AAPL', 'NVDA').\n",
    "\n",
    "    Returns:\n",
    "        str: The detailed stock analysis.\n",
    "\n",
    "    Raises:\n",
    "        KeyError: If the specified stock is not found in the data source.\n",
    "    \"\"\"\n",
    "    try:\n",
    "        stock = yf.Ticker(symbol)\n",
    "        info = stock.info\n",
    "        hist = stock.history(period=\"1y\")\n",
    "\n",
    "        # Calculate key metrics\n",
    "        current_price = hist[\"Close\"].iloc[-1]\n",
    "        year_high = hist[\"High\"].max()\n",
    "        year_low = hist[\"Low\"].min()\n",
    "        avg_volume = hist[\"Volume\"].mean()\n",
    "        price_change = (\n",
    "            (current_price - hist[\"Close\"].iloc[0]) / hist[\"Close\"].iloc[0]\n",
    "        ) * 100\n",
    "\n",
    "        return f\"\"\"\n",
    "📊 Stock Analysis for {symbol.upper()}:\n",
    "• Current Price: ${current_price:.2f}\n",
    "• 52-Week High: ${year_high:.2f}\n",
    "• 52-Week Low: ${year_low:.2f}\n",
    "• Year-to-Date Change: {price_change:.2f}%\n",
    "• Average Daily Volume: {avg_volume:,.0f} shares\n",
    "• Company: {info.get(\"longName\", \"N/A\")}\n",
    "• Sector: {info.get(\"sector\", \"N/A\")}\n",
    "\"\"\"\n",
    "    except Exception as e:\n",
    "        return f\"❌ Unable to retrieve data for {symbol}: {str(e)}\"\n",
    "\n",
    "\n",
    "# Tool 2: Create Diversified Portfolio\n",
    "@tool\n",
    "def create_diversified_portfolio(risk_level: str, investment_amount: float) -> str:\n",
    "    \"\"\"Create a diversified portfolio based on risk level (conservative, moderate, aggressive) and investment amount.\"\"\"\n",
    "\n",
    "    portfolios = {\n",
    "        \"conservative\": {\n",
    "            \"stocks\": [\"AAPL\", \"MSFT\", \"JNJ\", \"PG\", \"KO\"],\n",
    "            \"weights\": [0.25, 0.25, 0.20, 0.15, 0.15],\n",
    "            \"description\": \"Focus on large-cap, dividend-paying stocks\",\n",
    "        },\n",
    "        \"moderate\": {\n",
    "            \"stocks\": [\"AAPL\", \"GOOGL\", \"AMZN\", \"TSLA\", \"NVDA\"],\n",
    "            \"weights\": [0.30, 0.25, 0.20, 0.15, 0.10],\n",
    "            \"description\": \"Balanced mix of growth and stability\",\n",
    "        },\n",
    "        \"aggressive\": {\n",
    "            \"stocks\": [\"TSLA\", \"NVDA\", \"AMZN\", \"GOOGL\", \"META\"],\n",
    "            \"weights\": [0.30, 0.25, 0.20, 0.15, 0.10],\n",
    "            \"description\": \"High-growth potential stocks\",\n",
    "        },\n",
    "    }\n",
    "\n",
    "    if risk_level.lower() not in portfolios:\n",
    "        return \"❌ Risk level must be: conservative, moderate, or aggressive\"\n",
    "\n",
    "    portfolio = portfolios[risk_level.lower()]\n",
    "\n",
    "    result = f\"\"\"\n",
    "🎯 {risk_level.upper()} Portfolio Recommendation (${investment_amount:,.0f}):\n",
    "{portfolio[\"description\"]}\n",
    "\n",
    "Portfolio Allocation:\n",
    "\"\"\"\n",
    "\n",
    "    for stock, weight in zip(portfolio[\"stocks\"], portfolio[\"weights\"]):\n",
    "        allocation = investment_amount * weight\n",
    "        result += f\"• {stock}: {weight * 100:.0f}% (${allocation:,.0f})\\n\"\n",
    "\n",
    "    result += \"\\n⚠️ Disclaimer: This is for educational purposes only. Consult a financial advisor before investing.\"\n",
    "    return result\n",
    "\n",
    "\n",
    "# Tool 3: Compare Stock Performance\n",
    "@tool\n",
    "def compare_stock_performance(symbols: List[str], period: str = \"1y\") -> str:\n",
    "    \"\"\"Compare performance of multiple stocks over a specified period (1y, 6m, 3m, 1m).\"\"\"\n",
    "    if len(symbols) > 5:\n",
    "        return \"❌ Please limit comparison to 5 stocks maximum\"\n",
    "\n",
    "    try:\n",
    "        performance_data = {}\n",
    "\n",
    "        for symbol in symbols:\n",
    "            stock = yf.Ticker(symbol)\n",
    "            hist = stock.history(period=period)\n",
    "            if not hist.empty:\n",
    "                start_price = hist[\"Close\"].iloc[0]\n",
    "                end_price = hist[\"Close\"].iloc[-1]\n",
    "                performance = ((end_price - start_price) / start_price) * 100\n",
    "                performance_data[symbol] = performance\n",
    "\n",
    "        result = f\"📈 Stock Performance Comparison ({period}):\\n\"\n",
    "        sorted_stocks = sorted(\n",
    "            performance_data.items(), key=lambda x: x[1], reverse=True\n",
    "        )\n",
    "\n",
    "        for stock, performance in sorted_stocks:\n",
    "            result += f\"• {stock}: {performance:+.2f}%\\n\"\n",
    "\n",
    "        return result\n",
    "\n",
    "    except Exception as e:\n",
    "        return f\"❌ Error comparing stocks: {str(e)}\"\n",
    "\n",
    "\n",
    "# Create the Financial Analysis Agent\n",
    "financial_analysis_agent = Agent(\n",
    "    model=bedrock_model,  # Using the same bedrock_model from Step 1\n",
    "    system_prompt=FINANCIAL_ANALYSIS_PROMPT,\n",
    "    tools=[get_stock_analysis, create_diversified_portfolio, compare_stock_performance],\n",
    "    callback_handler=None,\n",
    ")\n",
    "\n",
    "@app.entrypoint\n",
    "async def invoke(payload):\n",
    "    \"\"\"Your AI agent function\"\"\"\n",
    "    print(payload)\n",
    "    user_message = payload[\"prompt\"]\n",
    "    async for event in financial_analysis_agent.stream_async(user_message):\n",
    "        print(event)\n",
    "        if \"data\" in event:\n",
    "            # Only stream text chunks to the client\n",
    "            print(event[\"data\"])\n",
    "            yield event[\"data\"]\n",
    "\n",
    "\n",
    "if __name__ == \"__main__\":\n",
    "    app.run()"
   ]
  },
  {
   "cell_type": "code",
   "execution_count": null,
   "id": "0b1a1098-661d-4697-913a-df2345e02488",
   "metadata": {
    "execution": {
     "iopub.execute_input": "2025-09-22T19:49:57.459394Z",
     "iopub.status.busy": "2025-09-22T19:49:57.458800Z",
     "iopub.status.idle": "2025-09-22T19:49:57.543762Z",
     "shell.execute_reply": "2025-09-22T19:49:57.543213Z",
     "shell.execute_reply.started": "2025-09-22T19:49:57.459361Z"
    }
   },
   "outputs": [],
   "source": [
    "# Configure AgentCore Runtime deployment settings\n",
    "agentcore_runtime = Runtime()\n",
    "\n",
    "agent_name = \"customer_support_agent\"\n",
    "\n",
    "print(\"Configuring AgentCore Runtime...\")\n",
    "response = agentcore_runtime.configure(\n",
    "    entrypoint=\"strands_agentcore_SageMaker_deploy.py\",\n",
    "    auto_create_execution_role=True,\n",
    "    auto_create_ecr=True,\n",
    "    requirements_file=\"requirements-agentcore.txt\",\n",
    "    region=region,\n",
    "    agent_name=agent_name,\n",
    "    authorizer_configuration=auth_config,\n",
    "    disable_otel=True, # Required to capture traces in SageMaker managed MLflow\n",
    ")\n",
    "\n",
    "print(\"Configuration completed ✓\")"
   ]
  },
  {
   "cell_type": "markdown",
   "id": "da7e946f-5179-452c-9011-7a4027669ff6",
   "metadata": {},
   "source": [
    "### Launching agent to AgentCore Runtime\n",
    "\n",
    "Now that we have a Dockerfile, let's launch the agent to the AgentCore Runtime. This will create the Amazon ECR repository and the AgentCore Runtime."
   ]
  },
  {
   "cell_type": "code",
   "execution_count": null,
   "id": "3841057d-8cf8-41fe-83a4-ea8163069d72",
   "metadata": {
    "execution": {
     "iopub.execute_input": "2025-09-22T20:08:07.952448Z",
     "iopub.status.busy": "2025-09-22T20:08:07.952047Z",
     "iopub.status.idle": "2025-09-22T20:09:21.816131Z",
     "shell.execute_reply": "2025-09-22T20:09:21.815448Z",
     "shell.execute_reply.started": "2025-09-22T20:08:07.952417Z"
    },
    "scrolled": true
   },
   "outputs": [],
   "source": [
    "# Deploy agent to AgentCore Runtime (creates ECR repo and runtime)\n",
    "print(\"Launching Agent server to AgentCore Runtime...\")\n",
    "print(\"This may take several minutes...\")\n",
    "\n",
    "launch_result = agentcore_runtime.launch(\n",
    "    env_vars={\"OTEL_PYTHON_EXCLUDED_URLS\": \"/ping,/invocations\"}\n",
    ")\n",
    "\n",
    "print(\"Launch completed ✓\")\n",
    "print(f\"Agent ARN: {launch_result.agent_arn}\")\n",
    "print(f\"Agent ID: {launch_result.agent_id}\")"
   ]
  },
  {
   "cell_type": "markdown",
   "id": "12f35ca7",
   "metadata": {},
   "source": [
    "### Add SageMaker MLflow IAM permissions to the AgentCore agent IAM role \n",
    "We add Sagemaker-mlflow IAM permission to the AgentCore runtime IAM role, to allow the AgentCore runtime to interact with Sagemaker managed MLflow and log traces. \n",
    "\n",
    "See AWS documentation for IAM actions supported for [Sagemaker managed MLflow](https://docs.aws.amazon.com/sagemaker/latest/dg/mlflow-create-tracking-server-iam.html#mlflow-create-tracking-server-iam-actions)\n"
   ]
  },
  {
   "cell_type": "code",
   "execution_count": null,
   "id": "ebffbe37",
   "metadata": {
    "execution": {
     "iopub.execute_input": "2025-09-22T20:09:30.050391Z",
     "iopub.status.busy": "2025-09-22T20:09:30.049579Z",
     "iopub.status.idle": "2025-09-22T20:09:30.368474Z",
     "shell.execute_reply": "2025-09-22T20:09:30.367873Z",
     "shell.execute_reply.started": "2025-09-22T20:09:30.050356Z"
    }
   },
   "outputs": [],
   "source": [
    "# Retrieve the IAM Role attached to the AgentCore runtime\n",
    "agent_status = agentcore_runtime.status()\n",
    "print(agent_status)\n",
    "execution_role_arn = agent_status.config.execution_role\n",
    "print(f\"Agent execution role arn: {execution_role_arn}\")"
   ]
  },
  {
   "cell_type": "code",
   "execution_count": null,
   "id": "3b824086",
   "metadata": {
    "execution": {
     "iopub.execute_input": "2025-09-22T20:09:32.483453Z",
     "iopub.status.busy": "2025-09-22T20:09:32.482935Z",
     "iopub.status.idle": "2025-09-22T20:09:32.487615Z",
     "shell.execute_reply": "2025-09-22T20:09:32.487052Z",
     "shell.execute_reply.started": "2025-09-22T20:09:32.483430Z"
    }
   },
   "outputs": [],
   "source": [
    "# Import IAM permissions module\n",
    "import boto3\n",
    "import json\n",
    "from utils.add_iam_permissions import add_sagemaker_mlflow_s3_permissions"
   ]
  },
  {
   "cell_type": "code",
   "execution_count": null,
   "id": "a46c27e0",
   "metadata": {
    "execution": {
     "iopub.execute_input": "2025-09-22T20:09:33.633398Z",
     "iopub.status.busy": "2025-09-22T20:09:33.632466Z",
     "iopub.status.idle": "2025-09-22T20:09:33.810713Z",
     "shell.execute_reply": "2025-09-22T20:09:33.810000Z",
     "shell.execute_reply.started": "2025-09-22T20:09:33.633368Z"
    }
   },
   "outputs": [],
   "source": [
    "# update IAM role permissions on the AgentCore runtime\n",
    "print(\"\\nAdding SageMaker MLflow\")\n",
    "add_sagemaker_mlflow_s3_permissions(execution_role_arn)\n",
    "print(\"✓ IAM permissions updated successfully\")"
   ]
  },
  {
   "cell_type": "markdown",
   "id": "27c854f5-83a3-446f-9de0-0beee417d3cc",
   "metadata": {},
   "source": [
    "### Invoking AgentCore Runtime\n",
    "\n",
    "Finally, we can invoke our AgentCore Runtime with a payload"
   ]
  },
  {
   "cell_type": "code",
   "execution_count": null,
   "id": "915208a1-8793-4158-901b-e94261b70677",
   "metadata": {
    "execution": {
     "iopub.execute_input": "2025-09-22T20:09:35.790891Z",
     "iopub.status.busy": "2025-09-22T20:09:35.790374Z",
     "iopub.status.idle": "2025-09-22T20:09:36.273105Z",
     "shell.execute_reply": "2025-09-22T20:09:36.272321Z",
     "shell.execute_reply.started": "2025-09-22T20:09:35.790864Z"
    }
   },
   "outputs": [],
   "source": [
    "# Authenticate user and get bearer token for API access\n",
    "bearer_token = reauthenticate_user(client_id=cognito_config[\"client_id\"])"
   ]
  },
  {
   "cell_type": "code",
   "execution_count": null,
   "id": "a846f791-8be1-400c-8c03-930079f04df4",
   "metadata": {
    "execution": {
     "iopub.execute_input": "2025-09-22T20:09:36.275248Z",
     "iopub.status.busy": "2025-09-22T20:09:36.274819Z",
     "iopub.status.idle": "2025-09-22T20:09:36.280787Z",
     "shell.execute_reply": "2025-09-22T20:09:36.280248Z",
     "shell.execute_reply.started": "2025-09-22T20:09:36.275224Z"
    }
   },
   "outputs": [],
   "source": [
    "def invoke_endpoint(\n",
    "    agent_arn: str,\n",
    "    payload,\n",
    "    session_id: str,\n",
    "    bearer_token: Optional[str],\n",
    "    region: str = \"us-east-1\",\n",
    "    endpoint_name: str = \"DEFAULT\",\n",
    ") -> Any:\n",
    "    \"\"\"Invoke agent endpoint using HTTP request with bearer token.\"\"\"\n",
    "    escaped_arn = urllib.parse.quote(agent_arn, safe=\"\")\n",
    "    url = f\"https://bedrock-agentcore.{region}.amazonaws.com/runtimes/{escaped_arn}/invocations\"\n",
    "    headers = {\n",
    "        \"Authorization\": f\"Bearer {bearer_token}\",\n",
    "        \"Content-Type\": \"application/json\",\n",
    "        \"X-Amzn-Bedrock-AgentCore-Runtime-Session-Id\": session_id,\n",
    "    }\n",
    "\n",
    "    try:\n",
    "        body = json.loads(payload) if isinstance(payload, str) else payload\n",
    "    except json.JSONDecodeError:\n",
    "        body = {\"payload\": payload}\n",
    "\n",
    "    try:\n",
    "        response = requests.post(\n",
    "            url,\n",
    "            params={\"qualifier\": endpoint_name},\n",
    "            headers=headers,\n",
    "            json=body,\n",
    "            timeout=100,\n",
    "            stream=True,\n",
    "        )\n",
    "        last_data = False\n",
    "        for line in response.iter_lines(chunk_size=1):\n",
    "            if line:\n",
    "                line = line.decode(\"utf-8\")\n",
    "                if line.startswith(\"data: \"):\n",
    "                    last_data = True\n",
    "                    line = line[6:]\n",
    "                    line = line.replace('\"', \"\")\n",
    "                    yield line\n",
    "                elif line:\n",
    "                    line = line.replace('\"', \"\")\n",
    "                    if last_data:\n",
    "                        yield \"\\n\" + line\n",
    "                    last_data = False\n",
    "\n",
    "    except requests.exceptions.RequestException as e:\n",
    "        print(\"Failed to invoke agent endpoint: %s\", str(e))\n",
    "        raise"
   ]
  },
  {
   "cell_type": "code",
   "execution_count": null,
   "id": "7451fa77",
   "metadata": {
    "execution": {
     "iopub.execute_input": "2025-09-22T20:09:37.250064Z",
     "iopub.status.busy": "2025-09-22T20:09:37.249367Z",
     "iopub.status.idle": "2025-09-22T20:10:04.017036Z",
     "shell.execute_reply": "2025-09-22T20:10:04.016156Z",
     "shell.execute_reply.started": "2025-09-22T20:09:37.250036Z"
    }
   },
   "outputs": [],
   "source": [
    "for chunk in invoke_endpoint(\n",
    "    agent_arn=launch_result.agent_arn,\n",
    "    payload={\n",
    "        \"prompt\": \"I make 2 Bitcoins/month and want to start investing into moderate risk portfolio and also analyze Apple stock. Help me create an investment portfolio for me.\"\n",
    "    },\n",
    "    session_id=str(uuid.uuid4()),\n",
    "    bearer_token=bearer_token,\n",
    "):\n",
    "    print(chunk.replace(\"\\\\n\", \"\\n\"), end=\"\")\n"
   ]
  },
  {
   "cell_type": "markdown",
   "id": "62f6d1fe",
   "metadata": {},
   "source": [
    "## Outputs in SageMaker managed MLflow\n",
    "See the AgentCore runtime traced in the SageMaker managed MLflow tracking server. \n",
    "\n",
    "- Go to the SageMaker managed MLflow tracking server and open the `traces` tab for the MLflow experiment.\n",
    "- If you used the default values in this notebook, your MLflow experiment will `_SAGEMAKER_MLFLOW_EXPERIMENT_NAME = \"customer_support_genai_agentcore\"`\n",
    "![runtime](./static/sagemaker-mlflow-output.png)"
   ]
  },
  {
   "cell_type": "markdown",
   "id": "1aa9f8f0-720e-4d41-b7a4-4fb65a1f2be0",
   "metadata": {},
   "source": [
    "## Cleanup (Optional)\n",
    "\n",
    "Let's now clean up the AgentCore Runtime resources created."
   ]
  },
  {
   "cell_type": "code",
   "execution_count": null,
   "id": "4faba763-3390-49b3-a50b-fb7446f3275a",
   "metadata": {},
   "outputs": [],
   "source": [
    "# Optional: Clean up Cognito user pool (commented out)\n",
    "# delete_cognito_user_pool()"
   ]
  },
  {
   "cell_type": "code",
   "execution_count": null,
   "id": "994c16f5-c271-4184-8af3-c24135d8b131",
   "metadata": {},
   "outputs": [],
   "source": [
    "# Get deployment details for cleanup (commented out)\n",
    "# launch_result.ecr_uri, launch_result.agent_id, launch_result.ecr_uri.split(\"/\")[1]"
   ]
  },
  {
   "cell_type": "code",
   "execution_count": null,
   "id": "20d3489b-7a3c-463c-a99f-739a7c65dd27",
   "metadata": {},
   "outputs": [],
   "source": [
    "# Optional: Delete AgentCore Runtime and ECR repository (commented out)\n",
    "# agentcore_control_client = boto3.client(\"bedrock-agentcore-control\", region_name=region)\n",
    "# ecr_client = boto3.client(\"ecr\", region_name=region)\n",
    "\n",
    "# runtime_delete_response = agentcore_control_client.delete_agent_runtime(\n",
    "#     agentRuntimeId=launch_result.agent_id,\n",
    "# )\n",
    "\n",
    "# response = ecr_client.delete_repository(\n",
    "#     repositoryName=launch_result.ecr_uri.split(\"/\")[1], force=True\n",
    "# )"
   ]
  },
  {
   "cell_type": "code",
   "execution_count": null,
   "id": "ab4c3c13",
   "metadata": {},
   "outputs": [],
   "source": []
  }
 ],
 "metadata": {
  "kernelspec": {
   "display_name": "mlflow",
   "language": "python",
   "name": "python3"
  },
  "language_info": {
   "codemirror_mode": {
    "name": "ipython",
    "version": 3
   },
   "file_extension": ".py",
   "mimetype": "text/x-python",
   "name": "python",
   "nbconvert_exporter": "python",
   "pygments_lexer": "ipython3",
   "version": "3.12.11"
  }
 },
 "nbformat": 4,
 "nbformat_minor": 5
}
